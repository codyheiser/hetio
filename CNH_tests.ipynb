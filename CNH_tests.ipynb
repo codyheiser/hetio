{
 "cells": [
  {
   "cell_type": "code",
   "execution_count": 1,
   "metadata": {},
   "outputs": [],
   "source": [
    "import pathlib\n",
    "import pytest\n",
    "import hetio.readwrite"
   ]
  },
  {
   "cell_type": "code",
   "execution_count": 4,
   "metadata": {},
   "outputs": [
    {
     "ename": "AttributeError",
     "evalue": "type object 'MetaGraph' has no attribute 'from_edge_tuples'",
     "output_type": "error",
     "traceback": [
      "\u001b[0;31m---------------------------------------------------------------------------\u001b[0m",
      "\u001b[0;31mAttributeError\u001b[0m                            Traceback (most recent call last)",
      "\u001b[0;32m<ipython-input-4-4f00911a1367>\u001b[0m in \u001b[0;36m<module>\u001b[0;34m\u001b[0m\n\u001b[0;32m----> 1\u001b[0;31m \u001b[0mmetagraph\u001b[0m \u001b[0;34m=\u001b[0m \u001b[0mhetio\u001b[0m\u001b[0;34m.\u001b[0m\u001b[0mreadwrite\u001b[0m\u001b[0;34m.\u001b[0m\u001b[0mread_metagraph\u001b[0m\u001b[0;34m(\u001b[0m\u001b[0;34m'../hetionet/hetnet/json/hetionet-v1.0-metagraph.json'\u001b[0m\u001b[0;34m)\u001b[0m\u001b[0;34m\u001b[0m\u001b[0m\n\u001b[0m",
      "\u001b[0;32m~/git/hetio/hetio/readwrite.py\u001b[0m in \u001b[0;36mread_metagraph\u001b[0;34m(path, formatting)\u001b[0m\n\u001b[1;32m     30\u001b[0m     \u001b[0;34m\"\"\"Read a metagraph from a path\"\"\"\u001b[0m\u001b[0;34m\u001b[0m\u001b[0m\n\u001b[1;32m     31\u001b[0m     \u001b[0mwritable\u001b[0m \u001b[0;34m=\u001b[0m \u001b[0mextract_writable\u001b[0m\u001b[0;34m(\u001b[0m\u001b[0mpath\u001b[0m\u001b[0;34m,\u001b[0m \u001b[0mformatting\u001b[0m\u001b[0;34m)\u001b[0m\u001b[0;34m\u001b[0m\u001b[0m\n\u001b[0;32m---> 32\u001b[0;31m     \u001b[0mmetagraph\u001b[0m \u001b[0;34m=\u001b[0m \u001b[0mmetagraph_from_writable\u001b[0m\u001b[0;34m(\u001b[0m\u001b[0mwritable\u001b[0m\u001b[0;34m)\u001b[0m\u001b[0;34m\u001b[0m\u001b[0m\n\u001b[0m\u001b[1;32m     33\u001b[0m     \u001b[0;32mreturn\u001b[0m \u001b[0mmetagraph\u001b[0m\u001b[0;34m\u001b[0m\u001b[0m\n\u001b[1;32m     34\u001b[0m \u001b[0;34m\u001b[0m\u001b[0m\n",
      "\u001b[0;32m~/git/hetio/hetio/readwrite.py\u001b[0m in \u001b[0;36mmetagraph_from_writable\u001b[0;34m(writable)\u001b[0m\n\u001b[1;32m    173\u001b[0m     \u001b[0mmetaedge_tuples\u001b[0m \u001b[0;34m=\u001b[0m \u001b[0;34m[\u001b[0m\u001b[0mtuple\u001b[0m\u001b[0;34m(\u001b[0m\u001b[0mx\u001b[0m\u001b[0;34m)\u001b[0m \u001b[0;32mfor\u001b[0m \u001b[0mx\u001b[0m \u001b[0;32min\u001b[0m \u001b[0mwritable\u001b[0m\u001b[0;34m[\u001b[0m\u001b[0;34m'metaedge_tuples'\u001b[0m\u001b[0;34m]\u001b[0m\u001b[0;34m]\u001b[0m\u001b[0;34m\u001b[0m\u001b[0m\n\u001b[1;32m    174\u001b[0m     \u001b[0mkind_to_abbrev\u001b[0m \u001b[0;34m=\u001b[0m \u001b[0mwritable\u001b[0m\u001b[0;34m.\u001b[0m\u001b[0mget\u001b[0m\u001b[0;34m(\u001b[0m\u001b[0;34m'kind_to_abbrev'\u001b[0m\u001b[0;34m)\u001b[0m\u001b[0;34m\u001b[0m\u001b[0m\n\u001b[0;32m--> 175\u001b[0;31m     \u001b[0mmetagraph\u001b[0m \u001b[0;34m=\u001b[0m \u001b[0mMetaGraph\u001b[0m\u001b[0;34m.\u001b[0m\u001b[0mfrom_edge_tuples\u001b[0m\u001b[0;34m(\u001b[0m\u001b[0mmetaedge_tuples\u001b[0m\u001b[0;34m,\u001b[0m \u001b[0mkind_to_abbrev\u001b[0m\u001b[0;34m)\u001b[0m\u001b[0;34m\u001b[0m\u001b[0m\n\u001b[0m\u001b[1;32m    176\u001b[0m     \u001b[0;32mreturn\u001b[0m \u001b[0mmetagraph\u001b[0m\u001b[0;34m\u001b[0m\u001b[0m\n\u001b[1;32m    177\u001b[0m \u001b[0;34m\u001b[0m\u001b[0m\n",
      "\u001b[0;31mAttributeError\u001b[0m: type object 'MetaGraph' has no attribute 'from_edge_tuples'"
     ]
    }
   ],
   "source": [
    "metagraph = hetio.readwrite.read_metagraph('../hetionet/hetnet/json/hetionet-v1.0-metagraph.json')"
   ]
  },
  {
   "cell_type": "code",
   "execution_count": 34,
   "metadata": {},
   "outputs": [
    {
     "data": {
      "text/plain": [
       "'Anatomy'"
      ]
     },
     "execution_count": 34,
     "metadata": {},
     "output_type": "execute_result"
    }
   ],
   "source": [
    "metagraph.get_node(kind='Anatomy').__str__()"
   ]
  },
  {
   "cell_type": "code",
   "execution_count": 43,
   "metadata": {},
   "outputs": [
    {
     "name": "stdout",
     "output_type": "stream",
     "text": [
      "Anatomy - downregulates - Gene\n",
      "Anatomy - expresses - Gene\n",
      "Anatomy - upregulates - Gene\n",
      "Compound - resembles - Compound\n",
      "Compound - palliates - Disease\n",
      "Compound - treats - Disease\n",
      "Compound - binds - Gene\n",
      "Compound - downregulates - Gene\n",
      "Compound - upregulates - Gene\n",
      "Compound - causes - Side Effect\n",
      "Disease - localizes - Anatomy\n",
      "Disease - resembles - Disease\n",
      "Disease - associates - Gene\n",
      "Disease - downregulates - Gene\n",
      "Disease - upregulates - Gene\n",
      "Disease - presents - Symptom\n",
      "Gene - participates - Biological Process\n",
      "Gene - participates - Cellular Component\n",
      "Gene - covaries - Gene\n",
      "Gene - interacts - Gene\n",
      "Gene > regulates > Gene\n",
      "Gene - participates - Molecular Function\n",
      "Gene - participates - Pathway\n",
      "Pharmacologic Class - includes - Compound\n"
     ]
    }
   ],
   "source": [
    "for edge in metagraph.get_edges():\n",
    "    #edge.get_id()\n",
    "    print(edge)"
   ]
  },
  {
   "cell_type": "code",
   "execution_count": 6,
   "metadata": {},
   "outputs": [],
   "source": [
    "import sys\n",
    "sys.path.append('test')\n",
    "from pathtools_test import *"
   ]
  },
  {
   "cell_type": "code",
   "execution_count": 7,
   "metadata": {},
   "outputs": [
    {
     "ename": "AttributeError",
     "evalue": "type object 'MetaGraph' has no attribute 'from_edge_tuples'",
     "output_type": "error",
     "traceback": [
      "\u001b[0;31m---------------------------------------------------------------------------\u001b[0m",
      "\u001b[0;31mAttributeError\u001b[0m                            Traceback (most recent call last)",
      "\u001b[0;32m<ipython-input-7-4bfe49e06f8b>\u001b[0m in \u001b[0;36m<module>\u001b[0;34m\u001b[0m\n\u001b[0;32m----> 1\u001b[0;31m \u001b[0mtest_disease_gene_example_dwpc\u001b[0m\u001b[0;34m(\u001b[0m\u001b[0;34m)\u001b[0m\u001b[0;34m\u001b[0m\u001b[0m\n\u001b[0m",
      "\u001b[0;32m~/git/hetio/test/pathtools_test.py\u001b[0m in \u001b[0;36mtest_disease_gene_example_dwpc\u001b[0;34m()\u001b[0m\n\u001b[1;32m     15\u001b[0m     \"\"\"\n\u001b[1;32m     16\u001b[0m     \u001b[0mpath\u001b[0m \u001b[0;34m=\u001b[0m \u001b[0mos\u001b[0m\u001b[0;34m.\u001b[0m\u001b[0mpath\u001b[0m\u001b[0;34m.\u001b[0m\u001b[0mjoin\u001b[0m\u001b[0;34m(\u001b[0m\u001b[0mdirectory\u001b[0m\u001b[0;34m,\u001b[0m \u001b[0;34m'data'\u001b[0m\u001b[0;34m,\u001b[0m \u001b[0;34m'disease-gene-example-graph.json'\u001b[0m\u001b[0;34m)\u001b[0m\u001b[0;34m\u001b[0m\u001b[0m\n\u001b[0;32m---> 17\u001b[0;31m     \u001b[0mgraph\u001b[0m \u001b[0;34m=\u001b[0m \u001b[0mhetio\u001b[0m\u001b[0;34m.\u001b[0m\u001b[0mreadwrite\u001b[0m\u001b[0;34m.\u001b[0m\u001b[0mread_graph\u001b[0m\u001b[0;34m(\u001b[0m\u001b[0mpath\u001b[0m\u001b[0;34m)\u001b[0m\u001b[0;34m\u001b[0m\u001b[0m\n\u001b[0m\u001b[1;32m     18\u001b[0m     \u001b[0mmetagraph\u001b[0m \u001b[0;34m=\u001b[0m \u001b[0mgraph\u001b[0m\u001b[0;34m.\u001b[0m\u001b[0mmetagraph\u001b[0m\u001b[0;34m\u001b[0m\u001b[0m\n\u001b[1;32m     19\u001b[0m \u001b[0;34m\u001b[0m\u001b[0m\n",
      "\u001b[0;32m~/git/hetio/hetio/readwrite.py\u001b[0m in \u001b[0;36mread_graph\u001b[0;34m(path, formatting)\u001b[0m\n\u001b[1;32m     23\u001b[0m     \u001b[0;34m\"\"\"Read a graph from a path\"\"\"\u001b[0m\u001b[0;34m\u001b[0m\u001b[0m\n\u001b[1;32m     24\u001b[0m     \u001b[0mwritable\u001b[0m \u001b[0;34m=\u001b[0m \u001b[0mextract_writable\u001b[0m\u001b[0;34m(\u001b[0m\u001b[0mpath\u001b[0m\u001b[0;34m,\u001b[0m \u001b[0mformatting\u001b[0m\u001b[0;34m)\u001b[0m\u001b[0;34m\u001b[0m\u001b[0m\n\u001b[0;32m---> 25\u001b[0;31m     \u001b[0mgraph\u001b[0m \u001b[0;34m=\u001b[0m \u001b[0mgraph_from_writable\u001b[0m\u001b[0;34m(\u001b[0m\u001b[0mwritable\u001b[0m\u001b[0;34m)\u001b[0m\u001b[0;34m\u001b[0m\u001b[0m\n\u001b[0m\u001b[1;32m     26\u001b[0m     \u001b[0;32mreturn\u001b[0m \u001b[0mgraph\u001b[0m\u001b[0;34m\u001b[0m\u001b[0m\n\u001b[1;32m     27\u001b[0m \u001b[0;34m\u001b[0m\u001b[0m\n",
      "\u001b[0;32m~/git/hetio/hetio/readwrite.py\u001b[0m in \u001b[0;36mgraph_from_writable\u001b[0;34m(writable)\u001b[0m\n\u001b[1;32m    179\u001b[0m \u001b[0;32mdef\u001b[0m \u001b[0mgraph_from_writable\u001b[0m\u001b[0;34m(\u001b[0m\u001b[0mwritable\u001b[0m\u001b[0;34m)\u001b[0m\u001b[0;34m:\u001b[0m\u001b[0;34m\u001b[0m\u001b[0m\n\u001b[1;32m    180\u001b[0m     \u001b[0;34m\"\"\"Create a graph from a writable\"\"\"\u001b[0m\u001b[0;34m\u001b[0m\u001b[0m\n\u001b[0;32m--> 181\u001b[0;31m     \u001b[0mmetagraph\u001b[0m \u001b[0;34m=\u001b[0m \u001b[0mmetagraph_from_writable\u001b[0m\u001b[0;34m(\u001b[0m\u001b[0mwritable\u001b[0m\u001b[0;34m)\u001b[0m\u001b[0;34m\u001b[0m\u001b[0m\n\u001b[0m\u001b[1;32m    182\u001b[0m     \u001b[0mgraph\u001b[0m \u001b[0;34m=\u001b[0m \u001b[0mGraph\u001b[0m\u001b[0;34m(\u001b[0m\u001b[0mmetagraph\u001b[0m\u001b[0;34m)\u001b[0m\u001b[0;34m\u001b[0m\u001b[0m\n\u001b[1;32m    183\u001b[0m \u001b[0;34m\u001b[0m\u001b[0m\n",
      "\u001b[0;32m~/git/hetio/hetio/readwrite.py\u001b[0m in \u001b[0;36mmetagraph_from_writable\u001b[0;34m(writable)\u001b[0m\n\u001b[1;32m    173\u001b[0m     \u001b[0mmetaedge_tuples\u001b[0m \u001b[0;34m=\u001b[0m \u001b[0;34m[\u001b[0m\u001b[0mtuple\u001b[0m\u001b[0;34m(\u001b[0m\u001b[0mx\u001b[0m\u001b[0;34m)\u001b[0m \u001b[0;32mfor\u001b[0m \u001b[0mx\u001b[0m \u001b[0;32min\u001b[0m \u001b[0mwritable\u001b[0m\u001b[0;34m[\u001b[0m\u001b[0;34m'metaedge_tuples'\u001b[0m\u001b[0;34m]\u001b[0m\u001b[0;34m]\u001b[0m\u001b[0;34m\u001b[0m\u001b[0m\n\u001b[1;32m    174\u001b[0m     \u001b[0mkind_to_abbrev\u001b[0m \u001b[0;34m=\u001b[0m \u001b[0mwritable\u001b[0m\u001b[0;34m.\u001b[0m\u001b[0mget\u001b[0m\u001b[0;34m(\u001b[0m\u001b[0;34m'kind_to_abbrev'\u001b[0m\u001b[0;34m)\u001b[0m\u001b[0;34m\u001b[0m\u001b[0m\n\u001b[0;32m--> 175\u001b[0;31m     \u001b[0mmetagraph\u001b[0m \u001b[0;34m=\u001b[0m \u001b[0mMetaGraph\u001b[0m\u001b[0;34m.\u001b[0m\u001b[0mfrom_edge_tuples\u001b[0m\u001b[0;34m(\u001b[0m\u001b[0mmetaedge_tuples\u001b[0m\u001b[0;34m,\u001b[0m \u001b[0mkind_to_abbrev\u001b[0m\u001b[0;34m)\u001b[0m\u001b[0;34m\u001b[0m\u001b[0m\n\u001b[0m\u001b[1;32m    176\u001b[0m     \u001b[0;32mreturn\u001b[0m \u001b[0mmetagraph\u001b[0m\u001b[0;34m\u001b[0m\u001b[0m\n\u001b[1;32m    177\u001b[0m \u001b[0;34m\u001b[0m\u001b[0m\n",
      "\u001b[0;31mAttributeError\u001b[0m: type object 'MetaGraph' has no attribute 'from_edge_tuples'"
     ]
    }
   ],
   "source": [
    "test_disease_gene_example_dwpc()"
   ]
  },
  {
   "cell_type": "code",
   "execution_count": null,
   "metadata": {},
   "outputs": [],
   "source": []
  }
 ],
 "metadata": {
  "kernelspec": {
   "display_name": "Python 3",
   "language": "python",
   "name": "python3"
  },
  "language_info": {
   "codemirror_mode": {
    "name": "ipython",
    "version": 3
   },
   "file_extension": ".py",
   "mimetype": "text/x-python",
   "name": "python",
   "nbconvert_exporter": "python",
   "pygments_lexer": "ipython3",
   "version": "3.6.5"
  }
 },
 "nbformat": 4,
 "nbformat_minor": 2
}
