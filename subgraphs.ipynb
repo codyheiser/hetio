{
 "cells": [
  {
   "cell_type": "markdown",
   "metadata": {},
   "source": [
    "### Subgraph Generation\n",
    "Pull out subgraphs of shortest paths between nodes of interest  \n",
    "  \n",
    "---"
   ]
  },
  {
   "cell_type": "code",
   "execution_count": 11,
   "metadata": {},
   "outputs": [],
   "source": [
    "# get all the hetio functions\n",
    "import random\n",
    "from hetio.readwrite import *\n",
    "from hetio.pathtools import *\n",
    "from hetio.stats import *\n",
    "import pandas as pd"
   ]
  },
  {
   "cell_type": "code",
   "execution_count": 2,
   "metadata": {},
   "outputs": [
    {
     "name": "stdout",
     "output_type": "stream",
     "text": [
      "Wall time: 1min 31s\n"
     ]
    }
   ],
   "source": [
    "%%time\n",
    "# Read Hetionet v1.0\n",
    "url = 'https://github.com/dhimmel/hetionet/raw/{}/{}'.format(\n",
    "    '00bf0b6f8886821d91cfdf00eadad145a7a1b6da',\n",
    "    'hetnet/json/hetionet-v1.0.json.bz2',\n",
    ")\n",
    "graph = read_graph(url)\n",
    "metagraph = graph.metagraph"
   ]
  },
  {
   "cell_type": "code",
   "execution_count": 3,
   "metadata": {},
   "outputs": [
    {
     "data": {
      "text/plain": [
       "20945"
      ]
     },
     "execution_count": 3,
     "metadata": {},
     "output_type": "execute_result"
    }
   ],
   "source": [
    "# see how many gene nodes we have in the whole graph\n",
    "graph.count_nodes(metanode='Gene')"
   ]
  },
  {
   "cell_type": "code",
   "execution_count": 4,
   "metadata": {},
   "outputs": [
    {
     "name": "stdout",
     "output_type": "stream",
     "text": [
      "435\n",
      "Wall time: 22 ms\n"
     ]
    }
   ],
   "source": [
    "%%time\n",
    "# get list of possible Gene-to-Gene metapaths up to len==4 for downstream calcs\n",
    "possible_metapaths = metagraph.extract_metapaths(source='Gene', target='Gene', max_length=3)\n",
    "print(len(possible_metapaths)) # how many are there?"
   ]
  },
  {
   "cell_type": "markdown",
   "metadata": {},
   "source": [
    "---\n",
    "#### 1. High Correlation Genes \n",
    "Genes ID-ed by Erin as highly correlated with CD4+ T-cell differentiation data from Sui Huang."
   ]
  },
  {
   "cell_type": "code",
   "execution_count": 5,
   "metadata": {},
   "outputs": [],
   "source": [
    "# 'query 1' from Erin:\n",
    "genes1 = [\"TFE3\",\"TYK2\",\"CPT1A\",\"NUCB1\",\"ENTPD4\",\"DDX17\",\"KLC1\",\"JPH4\",\"FAM214B\",\"WDR48\",\"CPT2\"]\n",
    "# genes not in HetioNet (that I know of) = [\"H2A\",\"H2B1\"]"
   ]
  },
  {
   "cell_type": "code",
   "execution_count": 6,
   "metadata": {},
   "outputs": [],
   "source": [
    "# 'PC 1' from Erin:\n",
    "genes2 = [\"BOP1\",\"ELAC2\",\"ADK2B\",\"IMP4\",\"MICAL2\",\"NAA10\",\"PIM2\"]"
   ]
  },
  {
   "cell_type": "code",
   "execution_count": 7,
   "metadata": {},
   "outputs": [],
   "source": [
    "# 'random' from Erin:\n",
    "genes3 = [\"ATP2C1\",\"RBM6\",\"ITGAL\",\"SSR1\",\"ZNF157\",\"COX7A2\",\"EIF1AX\",\"PUF60\",\"PLCH1\",\"EIF3I\",\"HMG17\"]"
   ]
  },
  {
   "cell_type": "code",
   "execution_count": 8,
   "metadata": {
    "scrolled": true
   },
   "outputs": [
    {
     "data": {
      "text/plain": [
       "[Gene::10521,\n",
       " Gene::57599,\n",
       " Gene::4924,\n",
       " Gene::84502,\n",
       " Gene::1376,\n",
       " Gene::3831,\n",
       " Gene::7297,\n",
       " Gene::80256,\n",
       " Gene::7030,\n",
       " Gene::1374,\n",
       " Gene::9583]"
      ]
     },
     "execution_count": 8,
     "metadata": {},
     "output_type": "execute_result"
    }
   ],
   "source": [
    "subgraph_nodes = [] # init list of nodes of interest\n",
    "for n in graph.get_nodes():\n",
    "    if n.name in genes1:\n",
    "        subgraph_nodes.append(n)\n",
    "\n",
    "subgraph_nodes # see if we successfully grabbed gene nodes by name"
   ]
  },
  {
   "cell_type": "code",
   "execution_count": 12,
   "metadata": {
    "scrolled": true
   },
   "outputs": [],
   "source": [
    "subgraph_nodes = {'ID':[], 'name':[], 'query':[]} # init dictionary of nodes of interest\n",
    "for n in graph.get_nodes():\n",
    "    if n.name in genes1:\n",
    "        subgraph_nodes['ID'].append(n)\n",
    "        subgraph_nodes['name'].append(n.name)\n",
    "        subgraph_nodes['query'].append('query 1')\n",
    "        \n",
    "    if n.name in genes2:\n",
    "        subgraph_nodes['ID'].append(n)\n",
    "        subgraph_nodes['name'].append(n.name)\n",
    "        subgraph_nodes['query'].append('PC 1')\n",
    "        \n",
    "    if n.name in genes3:\n",
    "        subgraph_nodes['ID'].append(n)\n",
    "        subgraph_nodes['name'].append(n.name)\n",
    "        subgraph_nodes['query'].append('random')\n",
    "\n",
    "node_dictionary = pd.DataFrame(subgraph_nodes)\n",
    "node_dictionary.to_csv('gene_dict.csv')"
   ]
  },
  {
   "cell_type": "code",
   "execution_count": 15,
   "metadata": {},
   "outputs": [
    {
     "name": "stdout",
     "output_type": "stream",
     "text": [
      "Analyzing paths between genes 10521 and 57599\n",
      "Analyzing paths between genes 10521 and 4924\n",
      "Analyzing paths between genes 10521 and 84502\n",
      "Analyzing paths between genes 10521 and 1376\n",
      "Analyzing paths between genes 10521 and 3831\n",
      "Analyzing paths between genes 10521 and 7297\n",
      "Analyzing paths between genes 10521 and 80256\n",
      "Analyzing paths between genes 10521 and 7030\n",
      "Analyzing paths between genes 10521 and 1374\n",
      "Analyzing paths between genes 10521 and 9583\n",
      "Analyzing paths between genes 57599 and 4924\n",
      "Analyzing paths between genes 57599 and 84502\n",
      "Analyzing paths between genes 57599 and 1376\n",
      "Analyzing paths between genes 57599 and 3831\n",
      "Analyzing paths between genes 57599 and 7297\n",
      "Analyzing paths between genes 57599 and 80256\n",
      "Analyzing paths between genes 57599 and 7030\n",
      "Analyzing paths between genes 57599 and 1374\n",
      "Analyzing paths between genes 57599 and 9583\n",
      "Analyzing paths between genes 4924 and 84502\n",
      "Analyzing paths between genes 4924 and 1376\n",
      "Analyzing paths between genes 4924 and 3831\n",
      "Analyzing paths between genes 4924 and 7297\n",
      "Analyzing paths between genes 4924 and 80256\n",
      "Analyzing paths between genes 4924 and 7030\n",
      "Analyzing paths between genes 4924 and 1374\n",
      "Analyzing paths between genes 4924 and 9583\n",
      "Analyzing paths between genes 84502 and 1376\n",
      "Analyzing paths between genes 84502 and 3831\n",
      "Analyzing paths between genes 84502 and 7297\n",
      "Analyzing paths between genes 84502 and 80256\n",
      "Analyzing paths between genes 84502 and 7030\n",
      "Analyzing paths between genes 84502 and 1374\n",
      "Analyzing paths between genes 84502 and 9583\n",
      "Analyzing paths between genes 1376 and 3831\n",
      "Analyzing paths between genes 1376 and 7297\n",
      "Analyzing paths between genes 1376 and 80256\n",
      "Analyzing paths between genes 1376 and 7030\n",
      "Analyzing paths between genes 1376 and 1374\n",
      "Analyzing paths between genes 1376 and 9583\n",
      "Analyzing paths between genes 3831 and 7297\n",
      "Analyzing paths between genes 3831 and 80256\n",
      "Analyzing paths between genes 3831 and 7030\n",
      "Analyzing paths between genes 3831 and 1374\n",
      "Analyzing paths between genes 3831 and 9583\n",
      "Analyzing paths between genes 7297 and 80256\n",
      "Analyzing paths between genes 7297 and 7030\n",
      "Analyzing paths between genes 7297 and 1374\n",
      "Analyzing paths between genes 7297 and 9583\n",
      "Analyzing paths between genes 80256 and 7030\n",
      "Analyzing paths between genes 80256 and 1374\n",
      "Analyzing paths between genes 80256 and 9583\n",
      "Analyzing paths between genes 7030 and 1374\n",
      "Analyzing paths between genes 7030 and 9583\n",
      "Analyzing paths between genes 1374 and 9583\n",
      "Wall time: 3h 39min 40s\n"
     ]
    }
   ],
   "source": [
    "%%time\n",
    "\n",
    "paths = {'pair':[], 'source':[], 'target':[], 'metapath':[], 'paths':[], 'DWPC':[]} # init output dictionary\n",
    "\n",
    "for pair in list(itertools.combinations(subgraph_nodes, 2)): # iterate through possible combinations of gene nodes of interest\n",
    "    print('Analyzing paths between genes {} and {}'.format(pair[0].get_id()[1], pair[1].get_id()[1])) # status update\n",
    "    for meta in possible_metapaths: # iterate through metapaths of len<=3 between source and target genes\n",
    "        path = paths_between(graph=graph, source=pair[0], target=pair[1], metapath=meta) # get all paths between source and target of metapath type\n",
    "        if len(path)!=0: # if that metapath exists between the source and target genes, append results to dictionary\n",
    "            paths['pair'].append(pair)\n",
    "            paths['source'].append(pair[0])\n",
    "            paths['target'].append(pair[1])\n",
    "            paths['metapath'].append(meta)\n",
    "            paths['paths'].append(path)\n",
    "            paths['DWPC'].append(DWPC(path, damping_exponent=0.4))"
   ]
  },
  {
   "cell_type": "code",
   "execution_count": 16,
   "metadata": {},
   "outputs": [],
   "source": [
    "import pandas as pd\n",
    "out = pd.DataFrame(paths)\n",
    "out.to_csv('out2_11Mar19.csv')"
   ]
  },
  {
   "cell_type": "code",
   "execution_count": null,
   "metadata": {},
   "outputs": [],
   "source": []
  },
  {
   "cell_type": "code",
   "execution_count": 33,
   "metadata": {},
   "outputs": [
    {
     "data": {
      "text/plain": [
       "0.0006933577678448712"
      ]
     },
     "execution_count": 33,
     "metadata": {},
     "output_type": "execute_result"
    }
   ],
   "source": [
    "DWPC(paths[1], damping_exponent=0.4)"
   ]
  },
  {
   "cell_type": "code",
   "execution_count": 46,
   "metadata": {},
   "outputs": [],
   "source": [
    "subgraph1 = graph.get_subgraph(nodes=subgraph_nodes)"
   ]
  },
  {
   "cell_type": "code",
   "execution_count": 63,
   "metadata": {},
   "outputs": [
    {
     "data": {
      "text/plain": [
       "11"
      ]
     },
     "execution_count": 63,
     "metadata": {},
     "output_type": "execute_result"
    }
   ],
   "source": [
    "subgraph1.n_nodes"
   ]
  },
  {
   "cell_type": "code",
   "execution_count": 5,
   "metadata": {
    "collapsed": true
   },
   "outputs": [],
   "source": [
    "# Specify compound and disease\n",
    "compound_id = 'Compound', 'DB01156'  # Bupropion\n",
    "disease_id = 'Disease', 'DOID:0050742'  # nicotine dependences\n",
    "metapath = metagraph.metapath_from_abbrev('CbGpPWpGaD')"
   ]
  },
  {
   "cell_type": "code",
   "execution_count": 20,
   "metadata": {},
   "outputs": [
    {
     "data": {
      "text/plain": [
       "('Compound', 'DB01156')"
      ]
     },
     "execution_count": 20,
     "metadata": {},
     "output_type": "execute_result"
    }
   ],
   "source": [
    "compound_id"
   ]
  },
  {
   "cell_type": "code",
   "execution_count": 6,
   "metadata": {
    "collapsed": true
   },
   "outputs": [],
   "source": [
    "# Extract walks between genes\n",
    "paths = hetio.pathtools.paths_between(\n",
    "    graph, \n",
    "    source=graph.node_dict[compound_id],\n",
    "    target=graph.node_dict[disease_id],\n",
    "    #metapath=metapath,\n",
    "    duplicates=True,\n",
    ")"
   ]
  },
  {
   "cell_type": "code",
   "execution_count": 7,
   "metadata": {
    "collapsed": true
   },
   "outputs": [],
   "source": [
    "metaedges = set(metapath)\n",
    "nodes = set()\n",
    "for path in paths:\n",
    "    nodes.update(path.get_nodes())\n",
    "    for edge in path:\n",
    "        # Add incidental nodes along paths to enable correct DWWC/DWPC computations\n",
    "        # for the CbGpPWpGaD metapath\n",
    "        nodes.update(e.target for e in edge.source.get_edges(edge.metaedge))\n",
    "        nodes.update(e.target for e in edge.target.get_edges(edge.metaedge.inverse))\n",
    "\n",
    "# Add Gene-interacts-Gene metaedge (not essential but may be useful)\n",
    "metaedges.add(metagraph.metapath_from_abbrev('GiG')[0])\n",
    "\n",
    "# Get subgraph\n",
    "subgraph = graph.get_subgraph(metaedges=metaedges, nodes=nodes)"
   ]
  },
  {
   "cell_type": "code",
   "execution_count": 8,
   "metadata": {},
   "outputs": [
    {
     "data": {
      "text/plain": [
       "(4, 4)"
      ]
     },
     "execution_count": 8,
     "metadata": {},
     "output_type": "execute_result"
    }
   ],
   "source": [
    "# Metagraph size\n",
    "subgraph.metagraph.n_nodes, subgraph.metagraph.n_edges"
   ]
  },
  {
   "cell_type": "code",
   "execution_count": 9,
   "metadata": {},
   "outputs": [
    {
     "data": {
      "text/plain": [
       "(3060, 18474)"
      ]
     },
     "execution_count": 9,
     "metadata": {},
     "output_type": "execute_result"
    }
   ],
   "source": [
    "# Graph size\n",
    "subgraph.n_nodes, subgraph.n_edges"
   ]
  },
  {
   "cell_type": "code",
   "execution_count": 10,
   "metadata": {},
   "outputs": [
    {
     "data": {
      "text/html": [
       "<div>\n",
       "<style scoped>\n",
       "    .dataframe tbody tr th:only-of-type {\n",
       "        vertical-align: middle;\n",
       "    }\n",
       "\n",
       "    .dataframe tbody tr th {\n",
       "        vertical-align: top;\n",
       "    }\n",
       "\n",
       "    .dataframe thead th {\n",
       "        text-align: right;\n",
       "    }\n",
       "</style>\n",
       "<table border=\"1\" class=\"dataframe\">\n",
       "  <thead>\n",
       "    <tr style=\"text-align: right;\">\n",
       "      <th></th>\n",
       "      <th>metanode</th>\n",
       "      <th>abbreviation</th>\n",
       "      <th>metaedges</th>\n",
       "      <th>nodes</th>\n",
       "      <th>unconnected_nodes</th>\n",
       "    </tr>\n",
       "  </thead>\n",
       "  <tbody>\n",
       "    <tr>\n",
       "      <th>0</th>\n",
       "      <td>Compound</td>\n",
       "      <td>C</td>\n",
       "      <td>1</td>\n",
       "      <td>730</td>\n",
       "      <td>730</td>\n",
       "    </tr>\n",
       "    <tr>\n",
       "      <th>3</th>\n",
       "      <td>Disease</td>\n",
       "      <td>D</td>\n",
       "      <td>1</td>\n",
       "      <td>16</td>\n",
       "      <td>16</td>\n",
       "    </tr>\n",
       "    <tr>\n",
       "      <th>1</th>\n",
       "      <td>Gene</td>\n",
       "      <td>G</td>\n",
       "      <td>4</td>\n",
       "      <td>2226</td>\n",
       "      <td>612</td>\n",
       "    </tr>\n",
       "    <tr>\n",
       "      <th>2</th>\n",
       "      <td>Pathway</td>\n",
       "      <td>PW</td>\n",
       "      <td>1</td>\n",
       "      <td>88</td>\n",
       "      <td>0</td>\n",
       "    </tr>\n",
       "  </tbody>\n",
       "</table>\n",
       "</div>"
      ],
      "text/plain": [
       "   metanode abbreviation  metaedges  nodes  unconnected_nodes\n",
       "0  Compound            C          1    730                730\n",
       "3   Disease            D          1     16                 16\n",
       "1      Gene            G          4   2226                612\n",
       "2   Pathway           PW          1     88                  0"
      ]
     },
     "execution_count": 10,
     "metadata": {},
     "output_type": "execute_result"
    }
   ],
   "source": [
    "# Metanode info\n",
    "hetio.stats.get_metanode_df(subgraph)"
   ]
  },
  {
   "cell_type": "code",
   "execution_count": 11,
   "metadata": {},
   "outputs": [
    {
     "data": {
      "text/html": [
       "<div>\n",
       "<style scoped>\n",
       "    .dataframe tbody tr th:only-of-type {\n",
       "        vertical-align: middle;\n",
       "    }\n",
       "\n",
       "    .dataframe tbody tr th {\n",
       "        vertical-align: top;\n",
       "    }\n",
       "\n",
       "    .dataframe thead th {\n",
       "        text-align: right;\n",
       "    }\n",
       "</style>\n",
       "<table border=\"1\" class=\"dataframe\">\n",
       "  <thead>\n",
       "    <tr style=\"text-align: right;\">\n",
       "      <th></th>\n",
       "      <th>metaedge</th>\n",
       "      <th>abbreviation</th>\n",
       "      <th>edges</th>\n",
       "      <th>source_nodes</th>\n",
       "      <th>target_nodes</th>\n",
       "    </tr>\n",
       "  </thead>\n",
       "  <tbody>\n",
       "    <tr>\n",
       "      <th>0</th>\n",
       "      <td>Compound - binds - Gene</td>\n",
       "      <td>CbG</td>\n",
       "      <td>5634</td>\n",
       "      <td>730</td>\n",
       "      <td>472</td>\n",
       "    </tr>\n",
       "    <tr>\n",
       "      <th>1</th>\n",
       "      <td>Disease - associates - Gene</td>\n",
       "      <td>DaG</td>\n",
       "      <td>937</td>\n",
       "      <td>16</td>\n",
       "      <td>557</td>\n",
       "    </tr>\n",
       "    <tr>\n",
       "      <th>2</th>\n",
       "      <td>Gene - interacts - Gene</td>\n",
       "      <td>GiG</td>\n",
       "      <td>5124</td>\n",
       "      <td>1061</td>\n",
       "      <td>1213</td>\n",
       "    </tr>\n",
       "    <tr>\n",
       "      <th>3</th>\n",
       "      <td>Gene - participates - Pathway</td>\n",
       "      <td>GpPW</td>\n",
       "      <td>6779</td>\n",
       "      <td>2222</td>\n",
       "      <td>88</td>\n",
       "    </tr>\n",
       "  </tbody>\n",
       "</table>\n",
       "</div>"
      ],
      "text/plain": [
       "                        metaedge abbreviation  edges  source_nodes  \\\n",
       "0        Compound - binds - Gene          CbG   5634           730   \n",
       "1    Disease - associates - Gene          DaG    937            16   \n",
       "2        Gene - interacts - Gene          GiG   5124          1061   \n",
       "3  Gene - participates - Pathway         GpPW   6779          2222   \n",
       "\n",
       "   target_nodes  \n",
       "0           472  \n",
       "1           557  \n",
       "2          1213  \n",
       "3            88  "
      ]
     },
     "execution_count": 11,
     "metadata": {},
     "output_type": "execute_result"
    }
   ],
   "source": [
    "# Metaedge info\n",
    "hetio.stats.get_metaedge_df(subgraph)"
   ]
  },
  {
   "cell_type": "code",
   "execution_count": 12,
   "metadata": {
    "collapsed": true
   },
   "outputs": [],
   "source": [
    "# Export as JSON\n",
    "hetio.readwrite.write_graph(subgraph, 'bupropion-CbGpPWpGaD-subgraph.json.xz')"
   ]
  },
  {
   "cell_type": "markdown",
   "metadata": {},
   "source": [
    "## Random subgraph of ~100 nodes per metanode\n",
    "\n",
    "Choose a different number of nodes per metanode to increase the liklihood rotten matrix operations cause misalignment."
   ]
  },
  {
   "cell_type": "code",
   "execution_count": 13,
   "metadata": {
    "collapsed": true
   },
   "outputs": [],
   "source": [
    "metanode_to_nodes = graph.get_metanode_to_nodes()\n",
    "n_nodes = 100\n",
    "node_subset = list()\n",
    "random.seed(0, version=2)\n",
    "for metanode, nodes in sorted(metanode_to_nodes.items()):\n",
    "    nodes = sorted(nodes)\n",
    "    nodes = random.sample(nodes, n_nodes)\n",
    "    node_subset.extend(nodes)\n",
    "    n_nodes += 1"
   ]
  },
  {
   "cell_type": "code",
   "execution_count": 14,
   "metadata": {},
   "outputs": [],
   "source": [
    "# Get subgraph\n",
    "subgraph = graph.get_subgraph(nodes=node_subset)"
   ]
  },
  {
   "cell_type": "code",
   "execution_count": 15,
   "metadata": {},
   "outputs": [
    {
     "data": {
      "text/plain": [
       "(11, 24)"
      ]
     },
     "execution_count": 15,
     "metadata": {},
     "output_type": "execute_result"
    }
   ],
   "source": [
    "# Metagraph size\n",
    "subgraph.metagraph.n_nodes, subgraph.metagraph.n_edges"
   ]
  },
  {
   "cell_type": "code",
   "execution_count": 16,
   "metadata": {},
   "outputs": [
    {
     "data": {
      "text/plain": [
       "(1155, 3123)"
      ]
     },
     "execution_count": 16,
     "metadata": {},
     "output_type": "execute_result"
    }
   ],
   "source": [
    "# Graph size\n",
    "subgraph.n_nodes, subgraph.n_edges"
   ]
  },
  {
   "cell_type": "code",
   "execution_count": 17,
   "metadata": {},
   "outputs": [
    {
     "data": {
      "text/html": [
       "<div>\n",
       "<style scoped>\n",
       "    .dataframe tbody tr th:only-of-type {\n",
       "        vertical-align: middle;\n",
       "    }\n",
       "\n",
       "    .dataframe tbody tr th {\n",
       "        vertical-align: top;\n",
       "    }\n",
       "\n",
       "    .dataframe thead th {\n",
       "        text-align: right;\n",
       "    }\n",
       "</style>\n",
       "<table border=\"1\" class=\"dataframe\">\n",
       "  <thead>\n",
       "    <tr style=\"text-align: right;\">\n",
       "      <th></th>\n",
       "      <th>metanode</th>\n",
       "      <th>abbreviation</th>\n",
       "      <th>metaedges</th>\n",
       "      <th>nodes</th>\n",
       "      <th>unconnected_nodes</th>\n",
       "    </tr>\n",
       "  </thead>\n",
       "  <tbody>\n",
       "    <tr>\n",
       "      <th>0</th>\n",
       "      <td>Anatomy</td>\n",
       "      <td>A</td>\n",
       "      <td>4</td>\n",
       "      <td>100</td>\n",
       "      <td>7</td>\n",
       "    </tr>\n",
       "    <tr>\n",
       "      <th>1</th>\n",
       "      <td>Biological Process</td>\n",
       "      <td>BP</td>\n",
       "      <td>1</td>\n",
       "      <td>101</td>\n",
       "      <td>86</td>\n",
       "    </tr>\n",
       "    <tr>\n",
       "      <th>2</th>\n",
       "      <td>Cellular Component</td>\n",
       "      <td>CC</td>\n",
       "      <td>1</td>\n",
       "      <td>102</td>\n",
       "      <td>90</td>\n",
       "    </tr>\n",
       "    <tr>\n",
       "      <th>3</th>\n",
       "      <td>Compound</td>\n",
       "      <td>C</td>\n",
       "      <td>8</td>\n",
       "      <td>103</td>\n",
       "      <td>73</td>\n",
       "    </tr>\n",
       "    <tr>\n",
       "      <th>4</th>\n",
       "      <td>Disease</td>\n",
       "      <td>D</td>\n",
       "      <td>8</td>\n",
       "      <td>104</td>\n",
       "      <td>22</td>\n",
       "    </tr>\n",
       "    <tr>\n",
       "      <th>5</th>\n",
       "      <td>Gene</td>\n",
       "      <td>G</td>\n",
       "      <td>16</td>\n",
       "      <td>105</td>\n",
       "      <td>19</td>\n",
       "    </tr>\n",
       "    <tr>\n",
       "      <th>6</th>\n",
       "      <td>Molecular Function</td>\n",
       "      <td>MF</td>\n",
       "      <td>1</td>\n",
       "      <td>106</td>\n",
       "      <td>95</td>\n",
       "    </tr>\n",
       "    <tr>\n",
       "      <th>7</th>\n",
       "      <td>Pathway</td>\n",
       "      <td>PW</td>\n",
       "      <td>1</td>\n",
       "      <td>107</td>\n",
       "      <td>87</td>\n",
       "    </tr>\n",
       "    <tr>\n",
       "      <th>8</th>\n",
       "      <td>Pharmacologic Class</td>\n",
       "      <td>PC</td>\n",
       "      <td>1</td>\n",
       "      <td>108</td>\n",
       "      <td>108</td>\n",
       "    </tr>\n",
       "    <tr>\n",
       "      <th>9</th>\n",
       "      <td>Side Effect</td>\n",
       "      <td>SE</td>\n",
       "      <td>1</td>\n",
       "      <td>109</td>\n",
       "      <td>76</td>\n",
       "    </tr>\n",
       "    <tr>\n",
       "      <th>10</th>\n",
       "      <td>Symptom</td>\n",
       "      <td>S</td>\n",
       "      <td>1</td>\n",
       "      <td>110</td>\n",
       "      <td>14</td>\n",
       "    </tr>\n",
       "  </tbody>\n",
       "</table>\n",
       "</div>"
      ],
      "text/plain": [
       "               metanode abbreviation  metaedges  nodes  unconnected_nodes\n",
       "0               Anatomy            A          4    100                  7\n",
       "1    Biological Process           BP          1    101                 86\n",
       "2    Cellular Component           CC          1    102                 90\n",
       "3              Compound            C          8    103                 73\n",
       "4               Disease            D          8    104                 22\n",
       "5                  Gene            G         16    105                 19\n",
       "6    Molecular Function           MF          1    106                 95\n",
       "7               Pathway           PW          1    107                 87\n",
       "8   Pharmacologic Class           PC          1    108                108\n",
       "9           Side Effect           SE          1    109                 76\n",
       "10              Symptom            S          1    110                 14"
      ]
     },
     "execution_count": 17,
     "metadata": {},
     "output_type": "execute_result"
    }
   ],
   "source": [
    "# Metanode info\n",
    "hetio.stats.get_metanode_df(subgraph)"
   ]
  },
  {
   "cell_type": "code",
   "execution_count": 18,
   "metadata": {},
   "outputs": [
    {
     "data": {
      "text/html": [
       "<div>\n",
       "<style scoped>\n",
       "    .dataframe tbody tr th:only-of-type {\n",
       "        vertical-align: middle;\n",
       "    }\n",
       "\n",
       "    .dataframe tbody tr th {\n",
       "        vertical-align: top;\n",
       "    }\n",
       "\n",
       "    .dataframe thead th {\n",
       "        text-align: right;\n",
       "    }\n",
       "</style>\n",
       "<table border=\"1\" class=\"dataframe\">\n",
       "  <thead>\n",
       "    <tr style=\"text-align: right;\">\n",
       "      <th></th>\n",
       "      <th>metaedge</th>\n",
       "      <th>abbreviation</th>\n",
       "      <th>edges</th>\n",
       "      <th>source_nodes</th>\n",
       "      <th>target_nodes</th>\n",
       "    </tr>\n",
       "  </thead>\n",
       "  <tbody>\n",
       "    <tr>\n",
       "      <th>0</th>\n",
       "      <td>Anatomy - downregulates - Gene</td>\n",
       "      <td>AdG</td>\n",
       "      <td>173</td>\n",
       "      <td>13</td>\n",
       "      <td>64</td>\n",
       "    </tr>\n",
       "    <tr>\n",
       "      <th>1</th>\n",
       "      <td>Anatomy - expresses - Gene</td>\n",
       "      <td>AeG</td>\n",
       "      <td>735</td>\n",
       "      <td>29</td>\n",
       "      <td>80</td>\n",
       "    </tr>\n",
       "    <tr>\n",
       "      <th>2</th>\n",
       "      <td>Anatomy - upregulates - Gene</td>\n",
       "      <td>AuG</td>\n",
       "      <td>126</td>\n",
       "      <td>13</td>\n",
       "      <td>58</td>\n",
       "    </tr>\n",
       "    <tr>\n",
       "      <th>6</th>\n",
       "      <td>Compound - binds - Gene</td>\n",
       "      <td>CbG</td>\n",
       "      <td>10</td>\n",
       "      <td>10</td>\n",
       "      <td>1</td>\n",
       "    </tr>\n",
       "    <tr>\n",
       "      <th>9</th>\n",
       "      <td>Compound - causes - Side Effect</td>\n",
       "      <td>CcSE</td>\n",
       "      <td>170</td>\n",
       "      <td>53</td>\n",
       "      <td>33</td>\n",
       "    </tr>\n",
       "    <tr>\n",
       "      <th>7</th>\n",
       "      <td>Compound - downregulates - Gene</td>\n",
       "      <td>CdG</td>\n",
       "      <td>6</td>\n",
       "      <td>6</td>\n",
       "      <td>4</td>\n",
       "    </tr>\n",
       "    <tr>\n",
       "      <th>4</th>\n",
       "      <td>Compound - palliates - Disease</td>\n",
       "      <td>CpD</td>\n",
       "      <td>26</td>\n",
       "      <td>16</td>\n",
       "      <td>13</td>\n",
       "    </tr>\n",
       "    <tr>\n",
       "      <th>3</th>\n",
       "      <td>Compound - resembles - Compound</td>\n",
       "      <td>CrC</td>\n",
       "      <td>16</td>\n",
       "      <td>14</td>\n",
       "      <td>14</td>\n",
       "    </tr>\n",
       "    <tr>\n",
       "      <th>5</th>\n",
       "      <td>Compound - treats - Disease</td>\n",
       "      <td>CtD</td>\n",
       "      <td>37</td>\n",
       "      <td>18</td>\n",
       "      <td>26</td>\n",
       "    </tr>\n",
       "    <tr>\n",
       "      <th>8</th>\n",
       "      <td>Compound - upregulates - Gene</td>\n",
       "      <td>CuG</td>\n",
       "      <td>4</td>\n",
       "      <td>3</td>\n",
       "      <td>4</td>\n",
       "    </tr>\n",
       "    <tr>\n",
       "      <th>12</th>\n",
       "      <td>Disease - associates - Gene</td>\n",
       "      <td>DaG</td>\n",
       "      <td>62</td>\n",
       "      <td>37</td>\n",
       "      <td>24</td>\n",
       "    </tr>\n",
       "    <tr>\n",
       "      <th>13</th>\n",
       "      <td>Disease - downregulates - Gene</td>\n",
       "      <td>DdG</td>\n",
       "      <td>26</td>\n",
       "      <td>18</td>\n",
       "      <td>23</td>\n",
       "    </tr>\n",
       "    <tr>\n",
       "      <th>10</th>\n",
       "      <td>Disease - localizes - Anatomy</td>\n",
       "      <td>DlA</td>\n",
       "      <td>636</td>\n",
       "      <td>95</td>\n",
       "      <td>93</td>\n",
       "    </tr>\n",
       "    <tr>\n",
       "      <th>15</th>\n",
       "      <td>Disease - presents - Symptom</td>\n",
       "      <td>DpS</td>\n",
       "      <td>631</td>\n",
       "      <td>96</td>\n",
       "      <td>96</td>\n",
       "    </tr>\n",
       "    <tr>\n",
       "      <th>11</th>\n",
       "      <td>Disease - resembles - Disease</td>\n",
       "      <td>DrD</td>\n",
       "      <td>309</td>\n",
       "      <td>81</td>\n",
       "      <td>73</td>\n",
       "    </tr>\n",
       "    <tr>\n",
       "      <th>14</th>\n",
       "      <td>Disease - upregulates - Gene</td>\n",
       "      <td>DuG</td>\n",
       "      <td>28</td>\n",
       "      <td>17</td>\n",
       "      <td>20</td>\n",
       "    </tr>\n",
       "    <tr>\n",
       "      <th>18</th>\n",
       "      <td>Gene - covaries - Gene</td>\n",
       "      <td>GcG</td>\n",
       "      <td>1</td>\n",
       "      <td>1</td>\n",
       "      <td>1</td>\n",
       "    </tr>\n",
       "    <tr>\n",
       "      <th>19</th>\n",
       "      <td>Gene - interacts - Gene</td>\n",
       "      <td>GiG</td>\n",
       "      <td>2</td>\n",
       "      <td>2</td>\n",
       "      <td>2</td>\n",
       "    </tr>\n",
       "    <tr>\n",
       "      <th>16</th>\n",
       "      <td>Gene - participates - Biological Process</td>\n",
       "      <td>GpBP</td>\n",
       "      <td>33</td>\n",
       "      <td>21</td>\n",
       "      <td>15</td>\n",
       "    </tr>\n",
       "    <tr>\n",
       "      <th>17</th>\n",
       "      <td>Gene - participates - Cellular Component</td>\n",
       "      <td>GpCC</td>\n",
       "      <td>32</td>\n",
       "      <td>23</td>\n",
       "      <td>12</td>\n",
       "    </tr>\n",
       "    <tr>\n",
       "      <th>21</th>\n",
       "      <td>Gene - participates - Molecular Function</td>\n",
       "      <td>GpMF</td>\n",
       "      <td>13</td>\n",
       "      <td>10</td>\n",
       "      <td>11</td>\n",
       "    </tr>\n",
       "    <tr>\n",
       "      <th>22</th>\n",
       "      <td>Gene - participates - Pathway</td>\n",
       "      <td>GpPW</td>\n",
       "      <td>25</td>\n",
       "      <td>15</td>\n",
       "      <td>20</td>\n",
       "    </tr>\n",
       "    <tr>\n",
       "      <th>20</th>\n",
       "      <td>Gene &gt; regulates &gt; Gene</td>\n",
       "      <td>Gr&gt;G</td>\n",
       "      <td>3</td>\n",
       "      <td>3</td>\n",
       "      <td>2</td>\n",
       "    </tr>\n",
       "    <tr>\n",
       "      <th>23</th>\n",
       "      <td>Pharmacologic Class - includes - Compound</td>\n",
       "      <td>PCiC</td>\n",
       "      <td>19</td>\n",
       "      <td>13</td>\n",
       "      <td>19</td>\n",
       "    </tr>\n",
       "  </tbody>\n",
       "</table>\n",
       "</div>"
      ],
      "text/plain": [
       "                                     metaedge abbreviation  edges  \\\n",
       "0              Anatomy - downregulates - Gene          AdG    173   \n",
       "1                  Anatomy - expresses - Gene          AeG    735   \n",
       "2                Anatomy - upregulates - Gene          AuG    126   \n",
       "6                     Compound - binds - Gene          CbG     10   \n",
       "9             Compound - causes - Side Effect         CcSE    170   \n",
       "7             Compound - downregulates - Gene          CdG      6   \n",
       "4              Compound - palliates - Disease          CpD     26   \n",
       "3             Compound - resembles - Compound          CrC     16   \n",
       "5                 Compound - treats - Disease          CtD     37   \n",
       "8               Compound - upregulates - Gene          CuG      4   \n",
       "12                Disease - associates - Gene          DaG     62   \n",
       "13             Disease - downregulates - Gene          DdG     26   \n",
       "10              Disease - localizes - Anatomy          DlA    636   \n",
       "15               Disease - presents - Symptom          DpS    631   \n",
       "11              Disease - resembles - Disease          DrD    309   \n",
       "14               Disease - upregulates - Gene          DuG     28   \n",
       "18                     Gene - covaries - Gene          GcG      1   \n",
       "19                    Gene - interacts - Gene          GiG      2   \n",
       "16   Gene - participates - Biological Process         GpBP     33   \n",
       "17   Gene - participates - Cellular Component         GpCC     32   \n",
       "21   Gene - participates - Molecular Function         GpMF     13   \n",
       "22              Gene - participates - Pathway         GpPW     25   \n",
       "20                    Gene > regulates > Gene         Gr>G      3   \n",
       "23  Pharmacologic Class - includes - Compound         PCiC     19   \n",
       "\n",
       "    source_nodes  target_nodes  \n",
       "0             13            64  \n",
       "1             29            80  \n",
       "2             13            58  \n",
       "6             10             1  \n",
       "9             53            33  \n",
       "7              6             4  \n",
       "4             16            13  \n",
       "3             14            14  \n",
       "5             18            26  \n",
       "8              3             4  \n",
       "12            37            24  \n",
       "13            18            23  \n",
       "10            95            93  \n",
       "15            96            96  \n",
       "11            81            73  \n",
       "14            17            20  \n",
       "18             1             1  \n",
       "19             2             2  \n",
       "16            21            15  \n",
       "17            23            12  \n",
       "21            10            11  \n",
       "22            15            20  \n",
       "20             3             2  \n",
       "23            13            19  "
      ]
     },
     "execution_count": 18,
     "metadata": {},
     "output_type": "execute_result"
    }
   ],
   "source": [
    "# Metaedge info\n",
    "hetio.stats.get_metaedge_df(subgraph)"
   ]
  },
  {
   "cell_type": "code",
   "execution_count": 19,
   "metadata": {
    "collapsed": true
   },
   "outputs": [],
   "source": [
    "# Export as JSON\n",
    "hetio.readwrite.write_graph(subgraph, 'random-subgraph.json.xz')"
   ]
  },
  {
   "cell_type": "code",
   "execution_count": null,
   "metadata": {},
   "outputs": [],
   "source": []
  }
 ],
 "metadata": {
  "kernelspec": {
   "display_name": "Python 3",
   "language": "python",
   "name": "python3"
  },
  "language_info": {
   "codemirror_mode": {
    "name": "ipython",
    "version": 3
   },
   "file_extension": ".py",
   "mimetype": "text/x-python",
   "name": "python",
   "nbconvert_exporter": "python",
   "pygments_lexer": "ipython3",
   "version": "3.7.1"
  }
 },
 "nbformat": 4,
 "nbformat_minor": 2
}
